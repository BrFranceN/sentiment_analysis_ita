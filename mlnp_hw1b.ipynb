{
  "cells": [
    {
      "cell_type": "markdown",
      "source": [
        "# Install requirements"
      ],
      "metadata": {
        "id": "6HwK0PHy_HSB"
      }
    },
    {
      "cell_type": "code",
      "execution_count": null,
      "metadata": {
        "id": "_4S_fqrn90xs",
        "colab": {
          "base_uri": "https://localhost:8080/"
        },
        "outputId": "71205f57-5c7a-4046-e16c-193ffe2e5713"
      },
      "outputs": [
        {
          "output_type": "stream",
          "name": "stdout",
          "text": [
            "Requirement already satisfied: gdown in /usr/local/lib/python3.10/dist-packages (5.1.0)\n",
            "Requirement already satisfied: beautifulsoup4 in /usr/local/lib/python3.10/dist-packages (from gdown) (4.12.3)\n",
            "Requirement already satisfied: filelock in /usr/local/lib/python3.10/dist-packages (from gdown) (3.13.4)\n",
            "Requirement already satisfied: requests[socks] in /usr/local/lib/python3.10/dist-packages (from gdown) (2.31.0)\n",
            "Requirement already satisfied: tqdm in /usr/local/lib/python3.10/dist-packages (from gdown) (4.66.2)\n",
            "Requirement already satisfied: soupsieve>1.2 in /usr/local/lib/python3.10/dist-packages (from beautifulsoup4->gdown) (2.5)\n",
            "Requirement already satisfied: charset-normalizer<4,>=2 in /usr/local/lib/python3.10/dist-packages (from requests[socks]->gdown) (3.3.2)\n",
            "Requirement already satisfied: idna<4,>=2.5 in /usr/local/lib/python3.10/dist-packages (from requests[socks]->gdown) (3.7)\n",
            "Requirement already satisfied: urllib3<3,>=1.21.1 in /usr/local/lib/python3.10/dist-packages (from requests[socks]->gdown) (2.0.7)\n",
            "Requirement already satisfied: certifi>=2017.4.17 in /usr/local/lib/python3.10/dist-packages (from requests[socks]->gdown) (2024.2.2)\n",
            "Requirement already satisfied: PySocks!=1.5.7,>=1.5.6 in /usr/local/lib/python3.10/dist-packages (from requests[socks]->gdown) (1.7.1)\n",
            "Collecting it-core-news-sm==3.7.0\n",
            "  Downloading https://github.com/explosion/spacy-models/releases/download/it_core_news_sm-3.7.0/it_core_news_sm-3.7.0-py3-none-any.whl (13.0 MB)\n",
            "\u001b[2K     \u001b[90m━━━━━━━━━━━━━━━━━━━━━━━━━━━━━━━━━━━━━━━━\u001b[0m \u001b[32m13.0/13.0 MB\u001b[0m \u001b[31m28.8 MB/s\u001b[0m eta \u001b[36m0:00:00\u001b[0m\n",
            "\u001b[?25hRequirement already satisfied: spacy<3.8.0,>=3.7.0 in /usr/local/lib/python3.10/dist-packages (from it-core-news-sm==3.7.0) (3.7.4)\n",
            "Requirement already satisfied: spacy-legacy<3.1.0,>=3.0.11 in /usr/local/lib/python3.10/dist-packages (from spacy<3.8.0,>=3.7.0->it-core-news-sm==3.7.0) (3.0.12)\n",
            "Requirement already satisfied: spacy-loggers<2.0.0,>=1.0.0 in /usr/local/lib/python3.10/dist-packages (from spacy<3.8.0,>=3.7.0->it-core-news-sm==3.7.0) (1.0.5)\n",
            "Requirement already satisfied: murmurhash<1.1.0,>=0.28.0 in /usr/local/lib/python3.10/dist-packages (from spacy<3.8.0,>=3.7.0->it-core-news-sm==3.7.0) (1.0.10)\n",
            "Requirement already satisfied: cymem<2.1.0,>=2.0.2 in /usr/local/lib/python3.10/dist-packages (from spacy<3.8.0,>=3.7.0->it-core-news-sm==3.7.0) (2.0.8)\n",
            "Requirement already satisfied: preshed<3.1.0,>=3.0.2 in /usr/local/lib/python3.10/dist-packages (from spacy<3.8.0,>=3.7.0->it-core-news-sm==3.7.0) (3.0.9)\n",
            "Requirement already satisfied: thinc<8.3.0,>=8.2.2 in /usr/local/lib/python3.10/dist-packages (from spacy<3.8.0,>=3.7.0->it-core-news-sm==3.7.0) (8.2.3)\n",
            "Requirement already satisfied: wasabi<1.2.0,>=0.9.1 in /usr/local/lib/python3.10/dist-packages (from spacy<3.8.0,>=3.7.0->it-core-news-sm==3.7.0) (1.1.2)\n",
            "Requirement already satisfied: srsly<3.0.0,>=2.4.3 in /usr/local/lib/python3.10/dist-packages (from spacy<3.8.0,>=3.7.0->it-core-news-sm==3.7.0) (2.4.8)\n",
            "Requirement already satisfied: catalogue<2.1.0,>=2.0.6 in /usr/local/lib/python3.10/dist-packages (from spacy<3.8.0,>=3.7.0->it-core-news-sm==3.7.0) (2.0.10)\n",
            "Requirement already satisfied: weasel<0.4.0,>=0.1.0 in /usr/local/lib/python3.10/dist-packages (from spacy<3.8.0,>=3.7.0->it-core-news-sm==3.7.0) (0.3.4)\n",
            "Requirement already satisfied: typer<0.10.0,>=0.3.0 in /usr/local/lib/python3.10/dist-packages (from spacy<3.8.0,>=3.7.0->it-core-news-sm==3.7.0) (0.9.4)\n",
            "Requirement already satisfied: smart-open<7.0.0,>=5.2.1 in /usr/local/lib/python3.10/dist-packages (from spacy<3.8.0,>=3.7.0->it-core-news-sm==3.7.0) (6.4.0)\n",
            "Requirement already satisfied: tqdm<5.0.0,>=4.38.0 in /usr/local/lib/python3.10/dist-packages (from spacy<3.8.0,>=3.7.0->it-core-news-sm==3.7.0) (4.66.2)\n",
            "Requirement already satisfied: requests<3.0.0,>=2.13.0 in /usr/local/lib/python3.10/dist-packages (from spacy<3.8.0,>=3.7.0->it-core-news-sm==3.7.0) (2.31.0)\n",
            "Requirement already satisfied: pydantic!=1.8,!=1.8.1,<3.0.0,>=1.7.4 in /usr/local/lib/python3.10/dist-packages (from spacy<3.8.0,>=3.7.0->it-core-news-sm==3.7.0) (2.7.1)\n",
            "Requirement already satisfied: jinja2 in /usr/local/lib/python3.10/dist-packages (from spacy<3.8.0,>=3.7.0->it-core-news-sm==3.7.0) (3.1.3)\n",
            "Requirement already satisfied: setuptools in /usr/local/lib/python3.10/dist-packages (from spacy<3.8.0,>=3.7.0->it-core-news-sm==3.7.0) (67.7.2)\n",
            "Requirement already satisfied: packaging>=20.0 in /usr/local/lib/python3.10/dist-packages (from spacy<3.8.0,>=3.7.0->it-core-news-sm==3.7.0) (24.0)\n",
            "Requirement already satisfied: langcodes<4.0.0,>=3.2.0 in /usr/local/lib/python3.10/dist-packages (from spacy<3.8.0,>=3.7.0->it-core-news-sm==3.7.0) (3.4.0)\n",
            "Requirement already satisfied: numpy>=1.19.0 in /usr/local/lib/python3.10/dist-packages (from spacy<3.8.0,>=3.7.0->it-core-news-sm==3.7.0) (1.25.2)\n",
            "Requirement already satisfied: language-data>=1.2 in /usr/local/lib/python3.10/dist-packages (from langcodes<4.0.0,>=3.2.0->spacy<3.8.0,>=3.7.0->it-core-news-sm==3.7.0) (1.2.0)\n",
            "Requirement already satisfied: annotated-types>=0.4.0 in /usr/local/lib/python3.10/dist-packages (from pydantic!=1.8,!=1.8.1,<3.0.0,>=1.7.4->spacy<3.8.0,>=3.7.0->it-core-news-sm==3.7.0) (0.6.0)\n",
            "Requirement already satisfied: pydantic-core==2.18.2 in /usr/local/lib/python3.10/dist-packages (from pydantic!=1.8,!=1.8.1,<3.0.0,>=1.7.4->spacy<3.8.0,>=3.7.0->it-core-news-sm==3.7.0) (2.18.2)\n",
            "Requirement already satisfied: typing-extensions>=4.6.1 in /usr/local/lib/python3.10/dist-packages (from pydantic!=1.8,!=1.8.1,<3.0.0,>=1.7.4->spacy<3.8.0,>=3.7.0->it-core-news-sm==3.7.0) (4.11.0)\n",
            "Requirement already satisfied: charset-normalizer<4,>=2 in /usr/local/lib/python3.10/dist-packages (from requests<3.0.0,>=2.13.0->spacy<3.8.0,>=3.7.0->it-core-news-sm==3.7.0) (3.3.2)\n",
            "Requirement already satisfied: idna<4,>=2.5 in /usr/local/lib/python3.10/dist-packages (from requests<3.0.0,>=2.13.0->spacy<3.8.0,>=3.7.0->it-core-news-sm==3.7.0) (3.7)\n",
            "Requirement already satisfied: urllib3<3,>=1.21.1 in /usr/local/lib/python3.10/dist-packages (from requests<3.0.0,>=2.13.0->spacy<3.8.0,>=3.7.0->it-core-news-sm==3.7.0) (2.0.7)\n",
            "Requirement already satisfied: certifi>=2017.4.17 in /usr/local/lib/python3.10/dist-packages (from requests<3.0.0,>=2.13.0->spacy<3.8.0,>=3.7.0->it-core-news-sm==3.7.0) (2024.2.2)\n",
            "Requirement already satisfied: blis<0.8.0,>=0.7.8 in /usr/local/lib/python3.10/dist-packages (from thinc<8.3.0,>=8.2.2->spacy<3.8.0,>=3.7.0->it-core-news-sm==3.7.0) (0.7.11)\n",
            "Requirement already satisfied: confection<1.0.0,>=0.0.1 in /usr/local/lib/python3.10/dist-packages (from thinc<8.3.0,>=8.2.2->spacy<3.8.0,>=3.7.0->it-core-news-sm==3.7.0) (0.1.4)\n",
            "Requirement already satisfied: click<9.0.0,>=7.1.1 in /usr/local/lib/python3.10/dist-packages (from typer<0.10.0,>=0.3.0->spacy<3.8.0,>=3.7.0->it-core-news-sm==3.7.0) (8.1.7)\n",
            "Requirement already satisfied: cloudpathlib<0.17.0,>=0.7.0 in /usr/local/lib/python3.10/dist-packages (from weasel<0.4.0,>=0.1.0->spacy<3.8.0,>=3.7.0->it-core-news-sm==3.7.0) (0.16.0)\n",
            "Requirement already satisfied: MarkupSafe>=2.0 in /usr/local/lib/python3.10/dist-packages (from jinja2->spacy<3.8.0,>=3.7.0->it-core-news-sm==3.7.0) (2.1.5)\n",
            "Requirement already satisfied: marisa-trie>=0.7.7 in /usr/local/lib/python3.10/dist-packages (from language-data>=1.2->langcodes<4.0.0,>=3.2.0->spacy<3.8.0,>=3.7.0->it-core-news-sm==3.7.0) (1.1.0)\n",
            "Installing collected packages: it-core-news-sm\n",
            "Successfully installed it-core-news-sm-3.7.0\n",
            "\u001b[38;5;2m✔ Download and installation successful\u001b[0m\n",
            "You can now load the package via spacy.load('it_core_news_sm')\n",
            "\u001b[38;5;3m⚠ Restart to reload dependencies\u001b[0m\n",
            "If you are in a Jupyter or Colab notebook, you may need to restart Python in\n",
            "order to load all the package's dependencies. You can do this by selecting the\n",
            "'Restart kernel' or 'Restart runtime' option.\n",
            "Requirement already satisfied: nltk in /usr/local/lib/python3.10/dist-packages (3.8.1)\n",
            "Requirement already satisfied: click in /usr/local/lib/python3.10/dist-packages (from nltk) (8.1.7)\n",
            "Requirement already satisfied: joblib in /usr/local/lib/python3.10/dist-packages (from nltk) (1.4.0)\n",
            "Requirement already satisfied: regex>=2021.8.3 in /usr/local/lib/python3.10/dist-packages (from nltk) (2023.12.25)\n",
            "Requirement already satisfied: tqdm in /usr/local/lib/python3.10/dist-packages (from nltk) (4.66.2)\n",
            "Requirement already satisfied: gensim in /usr/local/lib/python3.10/dist-packages (4.3.2)\n",
            "Requirement already satisfied: numpy>=1.18.5 in /usr/local/lib/python3.10/dist-packages (from gensim) (1.25.2)\n",
            "Requirement already satisfied: scipy>=1.7.0 in /usr/local/lib/python3.10/dist-packages (from gensim) (1.11.4)\n",
            "Requirement already satisfied: smart-open>=1.8.1 in /usr/local/lib/python3.10/dist-packages (from gensim) (6.4.0)\n"
          ]
        }
      ],
      "source": [
        "!pip install gdown\n",
        "# !pip install spacy\n",
        "!python -m spacy download it_core_news_sm\n",
        "!pip install nltk\n",
        "!pip install gensim\n",
        "# !pip install stanza\n"
      ]
    },
    {
      "cell_type": "markdown",
      "metadata": {
        "id": "0tdsrOWY-H_M"
      },
      "source": [
        "# Import and download files"
      ]
    },
    {
      "cell_type": "code",
      "execution_count": null,
      "metadata": {
        "id": "aiFqYVHP0_Bt"
      },
      "outputs": [],
      "source": [
        "\n",
        "import gdown\n",
        "import torch\n",
        "import spacy\n",
        "import random\n",
        "from tqdm import tqdm\n",
        "import re\n",
        "from pathlib import Path\n",
        "from collections import Counter\n",
        "import json\n",
        "import gensim\n",
        "import numpy as np\n",
        "\n",
        "import torch\n",
        "from torch import nn\n",
        "from torch.nn import functional as F\n",
        "from torch.nn.utils.rnn import pad_sequence\n",
        "from torch.utils.data import Dataset, DataLoader, random_split\n",
        "from torchtext.data.utils import get_tokenizer\n",
        "from torchtext.vocab import Vocab, vocab\n",
        "from torch.nn.utils.rnn import pack_padded_sequence\n",
        "from sklearn.metrics import precision_score,recall_score,f1_score\n",
        "\n",
        "\n",
        "seed = 58\n",
        "torch.manual_seed(seed)\n",
        "random.seed(seed)\n",
        "torch.cuda.manual_seed(seed)\n",
        "np.random.seed(42)"
      ]
    },
    {
      "cell_type": "code",
      "execution_count": null,
      "metadata": {
        "colab": {
          "base_uri": "https://localhost:8080/",
          "height": 175
        },
        "id": "qh9pfxGj9Glm",
        "outputId": "dec7e221-4001-4033-c105-ad72885bdcdd"
      },
      "outputs": [
        {
          "output_type": "stream",
          "name": "stderr",
          "text": [
            "Downloading...\n",
            "From: https://drive.google.com/uc?id=1ZkVSf4Pc8I-bQegCto8R4a1X9x-8psAo\n",
            "To: /content/haspeede3-task1-train-data.jsonl\n",
            "100%|██████████| 1.66M/1.66M [00:00<00:00, 109MB/s]\n",
            "Downloading...\n",
            "From: https://drive.google.com/uc?id=1mGgGAmxyF_6JKvGnY-9w0b28Ug04vzgt\n",
            "To: /content/haspeede3-task1-test-data.jsonl\n",
            "100%|██████████| 1.30M/1.30M [00:00<00:00, 101MB/s]\n"
          ]
        },
        {
          "output_type": "execute_result",
          "data": {
            "text/plain": [
              "'/content/haspeede3-task1-test-data.jsonl'"
            ],
            "application/vnd.google.colaboratory.intrinsic+json": {
              "type": "string"
            }
          },
          "metadata": {},
          "execution_count": 3
        }
      ],
      "source": [
        "#loads the file needed\n",
        "# same as the above, and you can copy-and-paste a URL from Google Drive with fuzzy=True\n",
        "url_train = \"https://drive.google.com/file/d/1ZkVSf4Pc8I-bQegCto8R4a1X9x-8psAo/view?usp=sharing\"\n",
        "output_train = '/content/haspeede3-task1-train-data.jsonl'\n",
        "gdown.download(url=url_train, output=output_train, fuzzy=True)\n",
        "\n",
        "url_test = 'https://drive.google.com/file/d/1mGgGAmxyF_6JKvGnY-9w0b28Ug04vzgt/view?usp=sharing'\n",
        "output_test ='/content/haspeede3-task1-test-data.jsonl'\n",
        "\n",
        "gdown.download(url=url_test, output=output_test, fuzzy=True)\n"
      ]
    },
    {
      "cell_type": "markdown",
      "metadata": {
        "id": "irhaRy9SY6Pm"
      },
      "source": [
        "# Utilities"
      ]
    },
    {
      "cell_type": "code",
      "execution_count": null,
      "metadata": {
        "id": "tChPX8lmCv3P",
        "colab": {
          "base_uri": "https://localhost:8080/"
        },
        "outputId": "1ee4e07b-76de-4c40-e67b-1a54c038986b"
      },
      "outputs": [
        {
          "output_type": "stream",
          "name": "stdout",
          "text": [
            "['Check out username and hashtag.', 'Amazing photo by user in exciting']\n"
          ]
        }
      ],
      "source": [
        "\n",
        "\n",
        "#Test: create a vocabulary\n",
        "# def tokenize_italian(texts_tuple,stopwords=True):\n",
        "#     nlp = spacy.load(\"it_core_news_sm\")\n",
        "#     results= []\n",
        "#     italian_stopwords = nlp.Defaults.stop_words if stopwords else set()\n",
        "#     for elem in texts_tuple:\n",
        "#         text_tokenized = [token.text for token in nlp(elem[0]) if token not in italian_stopwords ]\n",
        "#         results.append((text_tokenized,elem[1]))\n",
        "#     return results\n",
        "\n",
        "\n",
        "\n",
        "\n",
        "def clean_tweet(tweet):\n",
        "    # Remove @ but keep the username\n",
        "    tweet = re.sub(r'@(\\w+)', r'\\1', tweet)\n",
        "    # Remove # but keep the hashtag text\n",
        "    tweet = re.sub(r'#(\\w+)', r'\\1', tweet)\n",
        "    # Remove URLs and placeholder [URL]\n",
        "    tweet = re.sub(r'http\\S+|www\\S+|\\[URL\\]', '', tweet)\n",
        "    # Optionally remove special characters or anything else unnecessary\n",
        "    # tweet = re.sub(r'[^\\w\\s]', '', tweet)\n",
        "    # Remove extra spaces\n",
        "    tweet = re.sub(r'\\s+', ' ', tweet).strip()\n",
        "    return tweet\n",
        "\n",
        "# Example usage\n",
        "tweets = [\"Check out @username and #hashtag. [URL]\", \"Amazing photo by @user in #exciting [URL]\"]\n",
        "cleaned_tweets = [clean_tweet(tweet) for tweet in tweets]\n",
        "print(cleaned_tweets)\n",
        "\n",
        "\n",
        "\n",
        "def tokenize_italian_text(text,nlp,type_tokenizer,italian_stopwords=set()):\n",
        "    if type_tokenizer == \"spacy\":\n",
        "        text_tokenized = [token.text.lower() for token in nlp(text) if token.text.lower() not in italian_stopwords ]\n",
        "        return text_tokenized\n",
        "    elif type_tokenizer == \"nltk\":\n",
        "        tokens = nlp.tokenize(text)\n",
        "        tokens = [token.lower() for token in tokens if token.lower() not in italian_stopwords]\n",
        "        return tokens\n",
        "    elif type_tokenizer == \"stanza\":\n",
        "        doc = nlp(text)\n",
        "        text_tokenized = [word.text.lower() for sentence in doc.sentences for word in sentence.words if word.text.lower() not in italian_stopwords]\n",
        "        return text_tokenized\n",
        "    else:\n",
        "        raise Exception(\"Error: tokenizer not recognized\")\n",
        "        return None\n",
        "\n",
        "\n",
        "\n",
        "\n",
        "\n",
        "import nltk\n",
        "from nltk.corpus import stopwords\n",
        "from nltk.tokenize import WordPunctTokenizer\n",
        "\n",
        "\n",
        "\n",
        "def create_data(json_data, augmentation=False,tokenizer='nltk', stop_w=True):\n",
        "    data = []\n",
        "    #TOKENIZER CHOICE\n",
        "    if tokenizer == 'spacy':\n",
        "        nlp = spacy.load(\"it_core_news_sm\") #TODO forse questo mi rallenta, pensaci!\n",
        "        italian_stopwords = spacy.lang.it.stop_words.STOP_WORDS\n",
        "    elif tokenizer == 'nltk':\n",
        "        nltk.download('stopwords')\n",
        "        italian_stopwords = stopwords.words('italian')\n",
        "    nlp_nltk = WordPunctTokenizer()\n",
        "    if not stop_w:\n",
        "        italian_stopwords = set()\n",
        "    for i, element in enumerate(tqdm(json_data)):\n",
        "        sample = dict()\n",
        "        if augmentation:\n",
        "            sample1 = dict()\n",
        "            sample2 = dict()\n",
        "        text = element['text']\n",
        "        text = clean_tweet(text)\n",
        "        idx = int(element['id'].split('_')[-1])\n",
        "        choices = element['choices']\n",
        "        index_label = int(element['label'])\n",
        "        label = choices[index_label]\n",
        "        label = 0 if (label=='neutrale') else 1\n",
        "        sample[\"text\"] = text\n",
        "        sample[\"idx\"] = idx\n",
        "        # tokens = [token.text for token in nlp(text) if token.text.lower() not in italian_stopwords] # tokens spacy\n",
        "        tokens = tokenize_italian_text(text,nlp_nltk,\"nltk\",italian_stopwords) # tokens nltk\n",
        "        # if i == 100: break\n",
        "        if augmentation:\n",
        "            tokens1 = tokens\n",
        "            tokens2 = tokens\n",
        "            sample[\"label\"] = label\n",
        "            sample[\"tokens\"] = tokens\n",
        "            random.shuffle(tokens1)\n",
        "            sample1[\"tokens\"] = tokens1\n",
        "            sample1[\"label\"] = label\n",
        "            random.shuffle(tokens2)\n",
        "            sample2[\"tokens\"] = tokens2\n",
        "            sample2[\"label\"] = label\n",
        "            data.append(sample)\n",
        "            data.append(sample1)\n",
        "            data.append(sample2)\n",
        "        else:\n",
        "            # sample[\"tokens\"] = [token.text for token in nlp(text) if token.text.lower() not in italian_stopwords ] # tokens spacy\n",
        "            sample[\"tokens\"] = tokenize_italian_text(text,nlp_nltk,\"nltk\",italian_stopwords) # tokens nltk\n",
        "            sample[\"label\"] = label\n",
        "            data.append(sample)\n",
        "    return data\n",
        "\n",
        "\n",
        "\n",
        "\n",
        "\n",
        "\n",
        "\n",
        "\n",
        "\n",
        "\n"
      ]
    },
    {
      "cell_type": "code",
      "execution_count": null,
      "metadata": {
        "id": "NRYSUQUy1MW2",
        "colab": {
          "base_uri": "https://localhost:8080/"
        },
        "outputId": "ea7e8882-d75f-4234-abcc-541700d57f3b"
      },
      "outputs": [
        {
          "output_type": "stream",
          "name": "stderr",
          "text": [
            "[nltk_data] Downloading package stopwords to /root/nltk_data...\n",
            "[nltk_data]   Unzipping corpora/stopwords.zip.\n",
            "100%|██████████| 4480/4480 [00:01<00:00, 2260.71it/s]\n",
            "[nltk_data] Downloading package stopwords to /root/nltk_data...\n",
            "[nltk_data]   Package stopwords is already up-to-date!\n",
            "100%|██████████| 1120/1120 [00:00<00:00, 2220.96it/s]\n",
            "[nltk_data] Downloading package stopwords to /root/nltk_data...\n",
            "[nltk_data]   Package stopwords is already up-to-date!\n",
            "100%|██████████| 4400/4400 [00:02<00:00, 1863.65it/s]\n"
          ]
        }
      ],
      "source": [
        "\n",
        "data = []\n",
        "with open(\"haspeede3-task1-train-data.jsonl\", 'r', encoding='utf-8') as f:\n",
        "    for line in f:\n",
        "        sample = json.loads(line)\n",
        "        data.append(sample)\n",
        "# Now the 'data' list contains the data from the .jsonl file\n",
        "\n",
        "random.shuffle(data)\n",
        "split_index = int(0.80 * len(data))\n",
        "train_part = data[:split_index]\n",
        "validation_part = data[split_index:]\n",
        "\n",
        "\n",
        "test_part = []\n",
        "with open(\"haspeede3-task1-test-data.jsonl\", 'r', encoding='utf-8') as f:\n",
        "    for line in f:\n",
        "        sample = json.loads(line)\n",
        "        test_part.append(sample)\n",
        "\n",
        "\n",
        "train_data = create_data(train_part,stop_w=True)\n",
        "validation_data = create_data(validation_part,stop_w=True)\n",
        "test_data = create_data(test_part,stop_w=True)"
      ]
    },
    {
      "cell_type": "code",
      "source": [
        "data[0]"
      ],
      "metadata": {
        "colab": {
          "base_uri": "https://localhost:8080/"
        },
        "id": "aUQVXiVgHjFA",
        "outputId": "dbd77477-b0db-400f-da5e-d18e5e8a7c6e"
      },
      "execution_count": null,
      "outputs": [
        {
          "output_type": "execute_result",
          "data": {
            "text/plain": [
              "{'id': 'haspeede3_train_5081',\n",
              " 'text': '@571709376253630 Nurses stile Minetti ai bunga bunga parties di #Berlusconi o al S Raffaele ora 😉🤣🤣🤣',\n",
              " 'choices': [\"incitamento all'odio\", 'neutrale'],\n",
              " 'label': 1}"
            ]
          },
          "metadata": {},
          "execution_count": 6
        }
      ]
    },
    {
      "cell_type": "code",
      "source": [
        "train_data[0]"
      ],
      "metadata": {
        "colab": {
          "base_uri": "https://localhost:8080/"
        },
        "id": "-I46P8phHqop",
        "outputId": "41181853-4dc0-4644-e4f1-2469be510415"
      },
      "execution_count": null,
      "outputs": [
        {
          "output_type": "execute_result",
          "data": {
            "text/plain": [
              "{'text': '571709376253630 Nurses stile Minetti ai bunga bunga parties di Berlusconi o al S Raffaele ora 😉🤣🤣🤣',\n",
              " 'idx': 5081,\n",
              " 'tokens': ['571709376253630',\n",
              "  'nurses',\n",
              "  'stile',\n",
              "  'minetti',\n",
              "  'bunga',\n",
              "  'bunga',\n",
              "  'parties',\n",
              "  'berlusconi',\n",
              "  's',\n",
              "  'raffaele',\n",
              "  'ora',\n",
              "  '😉🤣🤣🤣'],\n",
              " 'label': 0}"
            ]
          },
          "metadata": {},
          "execution_count": 7
        }
      ]
    },
    {
      "cell_type": "code",
      "source": [
        "# DIFFERENCE FROM STOPWORDS AND NOT\n",
        "# train_data_NOSTOP = create_data(train_part,stop_w=False)\n",
        "# train_data_STOP = create_data(train_part,stop_w=True)\n",
        "# print(train_data_STOP[2][\"tokens\"])\n",
        "# print(train_data_NOSTOP[2][\"tokens\"])\n",
        "\n"
      ],
      "metadata": {
        "id": "mRBxYd0tJN7J"
      },
      "execution_count": null,
      "outputs": []
    },
    {
      "cell_type": "markdown",
      "metadata": {
        "id": "OKYc-Vwx0i3f"
      },
      "source": [
        "# Tests"
      ]
    },
    {
      "cell_type": "code",
      "execution_count": null,
      "metadata": {
        "id": "SoAdNBjIsW9K"
      },
      "outputs": [],
      "source": [
        "#TEST ALL TOKENIZER\n",
        "#FIRST TEST\n",
        "\n",
        "\n",
        "# # dataset_base = Haspeede3('haspeede3-task1-train-PART.jsonl')\n",
        "# text_1 = train_data[3][\"text\"]\n",
        "# print(text_1)\n",
        "# text_1 = clean_tweet(text_1)\n",
        "# print(text_1)\n",
        "\n",
        "\n",
        "\n",
        "\n",
        "# #TOKENIZER 1 SPACY\n",
        "# nlp_spacy = spacy.load(\"it_core_news_sm\") #TODO forse questo mi rallenta, pensaci!\n",
        "# stop_words_spacy = spacy.lang.it.stop_words.STOP_WORDS\n",
        "# tokens_1_spacy = tokenize_italian_text(text_1,nlp_spacy,\"spacy\",stop_words_spacy)\n",
        "# print(tokens_1_spacy)\n",
        "\n",
        "\n",
        "# #TOKENIZER 2 NLTK\n",
        "# # import nltk\n",
        "# # from nltk.corpus import stopwords\n",
        "# # from nltk.tokenize import WordPunctTokenizer\n",
        "\n",
        "# # nltk.download('stopwords')\n",
        "# stop_words_nltk = stopwords.words('italian')\n",
        "# nlp_nltk = WordPunctTokenizer()\n",
        "# tokens_1_nltk = tokenize_italian_text(text_1,nlp_nltk,\"nltk\",stop_words_nltk)\n",
        "\n",
        "\n",
        "# # #TOKENIZER 3 STANZA\n",
        "# # import stanza\n",
        "# # stanza.download('it')\n",
        "# nlp_stanza = stanza.Pipeline('it')\n",
        "# stop_words_stanza = stop_words_spacy\n",
        "# tokens_1_stanza = tokenize_italian_text(text_1,nlp_stanza,\"stanza\",stop_words_stanza)\n",
        "\n",
        "# print(tokens_1_spacy)\n",
        "# print(tokens_1_nltk)\n",
        "# print(tokens_1_stanza)\n",
        "\n",
        "\n",
        "# t1 = tokenize_italian_text(text_1,nlp)\n",
        "# t2 = tokenize_italian_text_2(text_1,nlp_stanza)\n",
        "# t3 = tokenize_italian_text_3(text_1,tokenizer)\n",
        "\n",
        "# print(t1)\n",
        "# print(t2)\n",
        "# print(t3)\n"
      ]
    },
    {
      "cell_type": "markdown",
      "metadata": {
        "id": "c_AdvtfX0sRE"
      },
      "source": [
        "# Dataset model and train class setup\n"
      ]
    },
    {
      "cell_type": "code",
      "source": [
        "class Haspeede3(Dataset):\n",
        "    def __init__(self, data, max_length: int = 1028,augmentation:bool = False,device: str = \"cuda\"):\n",
        "        self.data = data\n",
        "        self.padding_id: int | None = None\n",
        "        self.indexed_data: list[dict] | None = None\n",
        "        # Keep track of the maximum length to allow for a batch\n",
        "        self.max_length = max_length\n",
        "        # Save device\n",
        "        self.device = torch.device(device)\n",
        "\n",
        "\n",
        "    def __len__(self) -> int:\n",
        "        return len(self.data)\n",
        "\n",
        "    def __getitem__(self, idx: int) -> dict:\n",
        "        return self.data[idx][\"tokens\"],self.data[idx][\"label\"]\n",
        "\n",
        "    def get_data(self,idx:int) -> dict:\n",
        "        if idx < len(self.data):\n",
        "            return self.data[idx]\n",
        "\n",
        "\n",
        "    def set_padding_id(self,value:int) -> None:\n",
        "        self.padding_id = value\n",
        "\n",
        "    def get_raw_padding_id(self):\n",
        "        return self.padding_id\n",
        "\n",
        "    def set_model(self,model):\n",
        "        self.model = model\n",
        "\n",
        "    def _collate_fn(self, raw_batch: list[dict]) -> tuple[torch.Tensor,torch.Tensor,torch.Tensor]:\n",
        "        if self.padding_id is None:\n",
        "            raise RuntimeError(\"Error: padding not set! Use set_padding_id method!\")\n",
        "\n",
        "        sentences = [s[0] for s in raw_batch]\n",
        "        labels = [l[1] for l in raw_batch]\n",
        "\n",
        "        sentences_embedded = []\n",
        "        for sentence in sentences:\n",
        "            sentence_embedded = []\n",
        "            for idx,word in enumerate(sentence):\n",
        "                if word not in self.model.wv:\n",
        "                    embedding = self.model.wv[\"<unk>\"]\n",
        "                else:\n",
        "                    embedding = self.model.wv[word]\n",
        "                sentence_embedded.append(embedding.tolist())\n",
        "            sentences_embedded.append(sentence_embedded)\n",
        "\n",
        "\n",
        "        # print(f\"eccolo -> {sentences_embedded}\")\n",
        "        sequence_lengths = torch.tensor([len(sample) for sample in sentences], dtype=torch.long)\n",
        "\n",
        "        padded_sequence = pad_sequence(\n",
        "            (\n",
        "                torch.tensor(sentence,dtype = torch.float32, device = self.device)\n",
        "                for sentence in sentences_embedded\n",
        "            ),\n",
        "            batch_first = True,\n",
        "            padding_value = self.padding_id\n",
        "        )\n",
        "        labels = torch.tensor(labels, device = self.device, dtype=torch.long)\n",
        "        return sequence_lengths,padded_sequence,labels"
      ],
      "metadata": {
        "id": "RcKKKxyejtr2"
      },
      "execution_count": null,
      "outputs": []
    },
    {
      "cell_type": "code",
      "execution_count": null,
      "metadata": {
        "id": "iF7BDJ48Rm6n"
      },
      "outputs": [],
      "source": [
        "class BiLSTMModel(torch.nn.Module):\n",
        "\n",
        "    def __init__(\n",
        "        self,\n",
        "        # vocabulary_length: int,\n",
        "        hidden_dim: int,\n",
        "        input_size: int, #dim of w2v\n",
        "        bilstm_layers: int,\n",
        "        bilstm_dropout: float,\n",
        "        num_classes: int,\n",
        "        padding_id: int,\n",
        "        bidirectional: bool,\n",
        "        # embedding_matrix: Tensor,\n",
        "        device: str = \"cuda\",\n",
        "    ) -> None:\n",
        "        super().__init__()\n",
        "\n",
        "        # Prepare the device\n",
        "        self.device = torch.device(device)\n",
        "\n",
        "        # Embedding layer\n",
        "        # self.embedding = nn.Embedding(\n",
        "        #     num_embeddings=vocabulary_length,\n",
        "        #     embedding_dim=hidden_dim,\n",
        "        #     padding_idx=padding_id, # avoid updating the gradient of padding entries\n",
        "        #     device=self.device\n",
        "        # )\n",
        "\n",
        "        self.bid = bidirectional\n",
        "        # BiLSTM\n",
        "        self.bilstm = nn.LSTM(\n",
        "            # input_size=hidden_dim,\n",
        "            input_size=input_size,\n",
        "            hidden_size=hidden_dim,\n",
        "            num_layers=bilstm_layers,\n",
        "            batch_first=True,\n",
        "            dropout=bilstm_dropout,\n",
        "            bidirectional=self.bid,\n",
        "            device=self.device\n",
        "        )\n",
        "\n",
        "\n",
        "        multiplicative_term = 2 if self.bid else 1\n",
        "\n",
        "        #TEST\n",
        "        # self.fc1 = nn.Linear(hidden_dim,64,device=self.device)\n",
        "        # self.fc2 = nn.Linear(64,hidden_dim * multiplicative_term,device=self.device)\n",
        "\n",
        "        # # Projection layer\n",
        "        # multiplicative_term = 2 if self.bid else 1\n",
        "        # self.projection = nn.Linear(\n",
        "        #     in_features=hidden_dim * multiplicative_term,\n",
        "        #     out_features=num_classes,\n",
        "        #     device=device\n",
        "        # )\n",
        "\n",
        "        # Projection layer\n",
        "        self.projection = nn.Linear(\n",
        "            in_features=hidden_dim * multiplicative_term,\n",
        "            out_features=num_classes,\n",
        "            device=device\n",
        "        )\n",
        "\n",
        "    def forward(self, batch) -> torch.Tensor:\n",
        "        sequence_lengths,tokens = batch\n",
        "        # Pack the sequence to avoid gradient descent on padding tokens.\n",
        "        packed = pack_padded_sequence(tokens, sequence_lengths, batch_first=True, enforce_sorted=False)\n",
        "        packed_output, (hidden_state, cell_state) = self.bilstm(packed)\n",
        "        if self.bid==True:\n",
        "            # print(\"1=bidirectional lstm mode\")\n",
        "            # We take the last two hidden representations of the BiLSTM (the second-to-last layer's output is forward; last\n",
        "            # layer's is backward) by concatenating forward and backward over dimension 1.\n",
        "            # Both tensors have shapes of [B, H], so concatenating them along the second dimension (dim 1) results in a new\n",
        "            # tensor of shape [B, 2 * H]\n",
        "            hidden = torch.cat((hidden_state[-2,:,:], hidden_state[-1,:,:]), dim = 1)\n",
        "        else:\n",
        "            # print(\"1 lstm mode\")\n",
        "            hidden = hidden_state[-1,:,:]\n",
        "\n",
        "\n",
        "        # Finally we project to the two final classes and return the logits of each class\n",
        "        logits = self.projection(hidden) # [B, 1}?\n",
        "        return logits\n"
      ]
    },
    {
      "cell_type": "code",
      "execution_count": null,
      "metadata": {
        "id": "sv0UuT5vEz50"
      },
      "outputs": [],
      "source": [
        "class Trainer():\n",
        "    \"\"\"Utility class to train and evaluate a model.\"\"\"\n",
        "\n",
        "    def __init__(\n",
        "        self,\n",
        "        model: nn.Module,\n",
        "        optimizer: torch.optim.Optimizer,\n",
        "        log_steps: int = 1_000,\n",
        "        log_level: int = 2\n",
        "    ):\n",
        "        self.model = model\n",
        "        self.optimizer = optimizer\n",
        "        self.loss_function = nn.CrossEntropyLoss()\n",
        "        self.log_steps = log_steps\n",
        "        self.log_level = log_level\n",
        "\n",
        "    def train(\n",
        "        self,\n",
        "        train_dataloader: DataLoader,\n",
        "        valid_dataloader: DataLoader,\n",
        "        epochs: int = 1\n",
        "    ) -> dict[str, list[float]]:\n",
        "        \"\"\"\n",
        "        Args:\n",
        "            train_dataloader: a DataLoader instance containing the training instances.\n",
        "            valid_dataloader: a DataLoader instance used to evaluate learning progress.\n",
        "            epochs: the number of times to iterate over train_dataset.\n",
        "\n",
        "        Returns:\n",
        "            avg_train_loss: the average training loss on train_dataset over epochs.\n",
        "        \"\"\"\n",
        "        assert epochs >= 1 and isinstance(epochs, int)\n",
        "        if self.log_level > 0:\n",
        "            print('Training ...')\n",
        "\n",
        "        train_loss = 0.0\n",
        "\n",
        "        losses = {\n",
        "            \"train_losses\": [],\n",
        "            \"valid_losses\": [],\n",
        "            \"valid_acc\": [],\n",
        "            \"valid_prec\": [],\n",
        "        }\n",
        "\n",
        "        best_value = 0\n",
        "        for epoch in range(1, epochs + 1):\n",
        "            if self.log_level > 0:\n",
        "                print(' Epoch {:2d}'.format(epoch))\n",
        "            epoch_loss = 0.0\n",
        "            self.model.train()\n",
        "            # for each batch\n",
        "            for step, (sequence_lengths, inputs, labels) in enumerate(train_dataloader):\n",
        "                self.optimizer.zero_grad()\n",
        "                # We get the predicted logits from the model, with no need to perform any flattening\n",
        "                # as both predictions and labels refer to the whole sentence.\n",
        "                predictions = self.model((sequence_lengths, inputs))\n",
        "                # Adjust labels to be the correct shape (B, 1)\n",
        "                # labels = labels.float().unsqueeze(1)\n",
        "                # The CrossEntropyLoss expects the predictions to be logits, i.e. non-softmaxed scores across\n",
        "                # the number of classes, and the labels to be a simple tensor of labels.\n",
        "                # Specifically, predictions needs to be of shape [B, C], where B is the batch size and C is the number of\n",
        "                # classes, while labels must be of shape [B] where each element l_i should 0 <= l_i < C.\n",
        "                # See https://pytorch.org/docs/stable/generated/torch.nn.CrossEntropyLoss.html for more information.\n",
        "                sample_loss = self.loss_function(predictions, labels)\n",
        "                sample_loss.backward()\n",
        "                self.optimizer.step()\n",
        "                epoch_loss += sample_loss.cpu().tolist()\n",
        "                if self.log_level > 1 and (step % self.log_steps) == (self.log_steps - 1):\n",
        "                    print('\\t[E: {:2d} @ step {}] current avg loss = {:0.4f}'.format(epoch, step, epoch_loss / (step + 1)))\n",
        "\n",
        "            avg_epoch_loss = epoch_loss / len(train_dataloader)\n",
        "\n",
        "            if self.log_level > 0:\n",
        "                print('\\t[E: {:2d}] train loss = {:0.4f}'.format(epoch, avg_epoch_loss))\n",
        "\n",
        "            valid_loss, valid_acc,valid_prec = self.evaluate(valid_dataloader)\n",
        "\n",
        "\n",
        "            if valid_acc > best_value:\n",
        "              best_value = valid_acc\n",
        "              torch.save(self.model,'best_model.pth')\n",
        "\n",
        "            losses[\"train_losses\"].append(avg_epoch_loss)\n",
        "            losses[\"valid_losses\"].append(valid_loss)\n",
        "            losses[\"valid_acc\"].append(valid_acc)\n",
        "            losses[\"valid_prec\"].append(valid_prec)\n",
        "\n",
        "            if self.log_level > 0:\n",
        "                print('  [E: {:2d}] valid loss = {:0.4f}, valid acc = {:0.4f}'.format(epoch, valid_loss, valid_acc))\n",
        "\n",
        "        if self.log_level > 0:\n",
        "            print('... Done!')\n",
        "\n",
        "        return losses\n",
        "\n",
        "\n",
        "\n",
        "\n",
        "\n",
        "    def _compute_precision(self, logits: torch.Tensor, labels: torch.Tensor):\n",
        "        predictions = torch.argmax(logits, dim=1)  # Assumes logits is [batch_size, num_classes]\n",
        "        TP = torch.sum((predictions == 1) & (labels == 1))  # True Positives\n",
        "        FP = torch.sum((predictions == 1) & (labels == 0))  # False Positives\n",
        "\n",
        "        # Avoid division by zero by adding a small epsilon where denominator is zero\n",
        "        epsilon = 1e-8\n",
        "        return (TP.float() / (TP + FP + epsilon).float()).item()\n",
        "\n",
        "\n",
        "\n",
        "\n",
        "\n",
        "    def _compute_acc(self, logits: torch.Tensor, labels: torch.Tensor) -> float:\n",
        "        # logits [B, 2] are the logits outputted by the BiLSTM model's forward()\n",
        "        # We take the argmax along the second dimension (dim=1), so we get a tensor of shape [B]\n",
        "        # where each element is 0 if the 0-class had higher logit, 1 otherwise.\n",
        "        predictions = torch.argmax(logits, dim=1)\n",
        "        # We can then directly compare each prediction with the labels, as they are both tensors with shape [B].\n",
        "        # The average of the boolean equality checks between the two is the accuracy of these predictions.\n",
        "        # For example, if:\n",
        "        #   predictions = [1, 0, 0, 1, 1]\n",
        "        #   labels = [1, 0, 1, 1, 1]\n",
        "        # The comparison is:\n",
        "        #   (predictions == labels) => [1, 1, 0, 1, 1]\n",
        "        # which averaged gives an accuracy of 4/5, i.e. 0.80.\n",
        "        return torch.mean((predictions == labels).float()).tolist() # type: ignore\n",
        "\n",
        "    def evaluate(self, valid_dataloader: DataLoader) -> tuple[float, float]:\n",
        "        \"\"\"\n",
        "        Args:\n",
        "            valid_dataloader: the DataLoader to use to evaluate the model.\n",
        "\n",
        "        Returns:\n",
        "            avg_valid_loss: the average validation loss over valid_dataloader.\n",
        "        \"\"\"\n",
        "        valid_loss = 0.0\n",
        "        valid_acc = 0.0\n",
        "        valid_prec = 0.0\n",
        "        # When running in inference mode, it is required to have model.eval() AND .no_grad()\n",
        "        # Among other things, these set dropout to 0 and turn off gradient computation.\n",
        "        self.model.eval()\n",
        "        with torch.no_grad():\n",
        "            for batch in valid_dataloader:\n",
        "                sequence_lengths, inputs, labels = batch\n",
        "                logits = self.model((sequence_lengths, inputs))\n",
        "                # Adjust labels to be the correct shape also here (B, 1)\n",
        "                # labels = labels.float().unsqueeze(1)\n",
        "                # Same considerations as the training step apply here\n",
        "                sample_loss = self.loss_function(logits, labels)\n",
        "                valid_loss += sample_loss.tolist()\n",
        "                sample_acc = self._compute_acc(logits, labels)\n",
        "                precision_ = self._compute_precision(logits,labels)\n",
        "                valid_acc += sample_acc\n",
        "                valid_prec += precision_\n",
        "\n",
        "        return valid_loss / len(valid_dataloader), valid_acc / len(valid_dataloader),valid_prec/len(valid_dataloader)\n",
        "\n",
        "    def predict(self, batch: tuple[torch.Tensor, torch.Tensor]) -> tuple[torch.Tensor, torch.Tensor]:\n",
        "        \"\"\"\n",
        "        Args:\n",
        "            x: a tensor of indices\n",
        "        Returns:\n",
        "            A tuple composed of:\n",
        "            - the logits of each class, 0 and 1\n",
        "            - the prediction for each sample in the batch\n",
        "              0 if the sentiment of the sentence is negative, 1 if it is positive.\n",
        "        \"\"\"\n",
        "        #WITH BCE VERSION\n",
        "        # self.model.eval()\n",
        "        # with torch.no_grad():\n",
        "        #     sequence_lengths, inputs = batch\n",
        "        #     logits = self.model(sequence_lengths, inputs) # [B, 2]\n",
        "        #     probs = torch.sigmoid(logits) # Convert logits to probabilities\n",
        "        #     predictions =  (probs > 0.5).float() # [B, 1] computed on the last dimension of the logits tensor\n",
        "        #     return logits, predictions\n",
        "        self.model.eval()\n",
        "        with torch.no_grad():\n",
        "            sequence_lengths, inputs = batch\n",
        "            logits = self.model(sequence_lengths, inputs) # [B, 2]\n",
        "            predictions = torch.argmax(logits, -1) # [B, 1] computed on the last dimension of the logits tensor\n",
        "            return logits, predictions"
      ]
    },
    {
      "cell_type": "code",
      "execution_count": null,
      "metadata": {
        "id": "CuBUUrZXPaNt"
      },
      "outputs": [],
      "source": [
        "# dataset_train = Haspeede3('haspeede3-task1-train-PART.jsonl' )\n",
        "# dataset_test = Haspeede3('haspeede3-task1-test-data.jsonl' )\n",
        "# dataset_validation = Haspeede3('haspeede3-task1-validation-PART.jsonl')\n",
        "dataset_train = Haspeede3(train_data)\n",
        "dataset_test = Haspeede3(test_data)\n",
        "dataset_validation = Haspeede3(validation_data)"
      ]
    },
    {
      "cell_type": "code",
      "source": [
        "# dataset_train[0]\n",
        "corpus = [tokens[0] for tokens in dataset_train]\n",
        "corpus.append([\"<unk>\"])\n",
        "size_vector_input = 100\n",
        "modelw2v = gensim.models.Word2Vec(corpus, vector_size=size_vector_input, window=10, min_count=1,epochs=200)\n",
        "modelw2v.save('word2vec.model')"
      ],
      "metadata": {
        "id": "pYvKVYKGnIBG"
      },
      "execution_count": null,
      "outputs": []
    },
    {
      "cell_type": "code",
      "source": [
        "dataset_train.set_model(modelw2v)\n",
        "dataset_test.set_model(modelw2v)\n",
        "dataset_validation.set_model(modelw2v)\n",
        "dataset_train.set_padding_id(0)\n",
        "dataset_test.set_padding_id(0)\n",
        "dataset_validation.set_padding_id(0)\n",
        "training_dataloader = DataLoader(dataset_train, batch_size=128, shuffle=True, collate_fn=dataset_train._collate_fn)\n",
        "test_dataloader = DataLoader(dataset_test, batch_size=128, shuffle=False, collate_fn=dataset_test._collate_fn)\n",
        "validation_dataloader = DataLoader(dataset_validation, batch_size=128, shuffle=False, collate_fn=dataset_test._collate_fn)"
      ],
      "metadata": {
        "id": "0HqyFj6WpgeH"
      },
      "execution_count": null,
      "outputs": []
    },
    {
      "cell_type": "code",
      "source": [
        "# Only test TO REMOVE\n",
        "data = next(iter(training_dataloader))\n",
        "print(data[0].shape)\n",
        "print(data[1].shape)\n",
        "print(data[2].shape)\n",
        "print(data[0].count_nonzero())\n",
        "print(data[1].count_nonzero())\n",
        "print(data[2].count_nonzero())\n",
        "\n"
      ],
      "metadata": {
        "colab": {
          "base_uri": "https://localhost:8080/"
        },
        "id": "Prxnl8susYC4",
        "outputId": "12246edc-40ee-46d7-e4cf-5d35935f3303"
      },
      "execution_count": null,
      "outputs": [
        {
          "output_type": "stream",
          "name": "stdout",
          "text": [
            "torch.Size([128])\n",
            "torch.Size([128, 37, 100])\n",
            "torch.Size([128])\n",
            "tensor(128)\n",
            "tensor(255600, device='cuda:0')\n",
            "tensor(53, device='cuda:0')\n"
          ]
        }
      ]
    },
    {
      "cell_type": "markdown",
      "metadata": {
        "id": "UPbiECKj1OZk"
      },
      "source": [
        "# Baseline and advanced baseline"
      ]
    },
    {
      "cell_type": "code",
      "execution_count": null,
      "metadata": {
        "colab": {
          "base_uri": "https://localhost:8080/"
        },
        "id": "YknyGeGtOfbK",
        "outputId": "d484a823-5e72-4e1d-f9be-874f5b692e99"
      },
      "outputs": [
        {
          "output_type": "stream",
          "name": "stdout",
          "text": [
            "{0: 2765, 1: 1715}\n",
            "4480\n",
            "accuracy of baseline -> 0.5590909090909091\n",
            "precision of baseline -> 0.2700061087338424\n"
          ]
        }
      ],
      "source": [
        "#RANDOM BASELINE (stratified class version)\n",
        "\n",
        "def get_distribution_label(dataset_base):\n",
        "    #get distribution of label\n",
        "    label_count = {0:0, 1:0}\n",
        "    for idx in range(len(dataset_base)):\n",
        "        elem = dataset_base.get_data(idx)\n",
        "        label_count[elem[\"label\"]]+=1\n",
        "    return label_count\n",
        "\n",
        "#return the predictions maded\n",
        "def get_prediction(dataset_base,probabilities,values):\n",
        "    predictions = []\n",
        "    label = []\n",
        "    correct = 0\n",
        "    tp = 0\n",
        "    fp = 0\n",
        "    epsilon = 1e-8\n",
        "\n",
        "    for idx in range(len(dataset_base)):\n",
        "        predictions.append(random.choices(values, weights=probabilities, k=1)[0])\n",
        "        label.append(dataset_base.get_data(idx)[\"label\"])\n",
        "        if predictions[idx] == label[idx]: correct+=1\n",
        "        if predictions[idx] == 1 and label[idx] == 1: tp+=1\n",
        "        if predictions[idx] == 1 and label[idx] == 0: fp+=1\n",
        "    return correct/len(predictions),tp/(tp+fp+epsilon)\n",
        "\n",
        "label_count = get_distribution_label(dataset_train)\n",
        "\n",
        "print(label_count)\n",
        "print(label_count[0] + label_count[1])\n",
        "label_0_c = label_count[0]\n",
        "label_1_c = label_count[1]\n",
        "\n",
        "total_c = label_0_c + label_1_c\n",
        "probabilities = [label_0_c/total_c, label_1_c/total_c]\n",
        "values = [0,1]\n",
        "\n",
        "accuracy,precision = get_prediction(dataset_test,probabilities,values)\n",
        "\n",
        "print(f\"accuracy of baseline -> {accuracy}\")\n",
        "print(f\"precision of baseline -> {precision}\")\n",
        "\n",
        "# check_count = {0:0, 1:0}\n",
        "# for elem in predictions:\n",
        "#     if elem == 0:\n",
        "#         check_count[0] += 1\n",
        "#     else:\n",
        "#         check_count[1] += 1\n",
        "\n",
        "# print(check_count)\n",
        "# print(check_count[0] + check_count[1])\n",
        "\n",
        "\n",
        "\n",
        "\n",
        "\n",
        "\n",
        "\n",
        "\n"
      ]
    },
    {
      "cell_type": "code",
      "execution_count": null,
      "metadata": {
        "colab": {
          "base_uri": "https://localhost:8080/"
        },
        "id": "MqELpcUqOjXN",
        "outputId": "51d6e78e-4ca2-441f-bf84-c7d596a6fb8e"
      },
      "outputs": [
        {
          "output_type": "stream",
          "name": "stderr",
          "text": [
            "100%|██████████| 4400/4400 [01:00<00:00, 72.92it/s]"
          ]
        },
        {
          "output_type": "stream",
          "name": "stdout",
          "text": [
            "0.6615909090909091\n",
            "0.3632246376778694\n"
          ]
        },
        {
          "output_type": "stream",
          "name": "stderr",
          "text": [
            "\n"
          ]
        }
      ],
      "source": [
        "#ADVANCED BASELINE\n",
        "\n",
        "def get_corpus_and_tokens(dataset_from):\n",
        "    good_tokens = set()\n",
        "    bad_tokens = set()\n",
        "    # sottrare bad a good e viceversa\n",
        "    for idx in range(len(dataset_train)):\n",
        "        elem = dataset_train.get_data(idx)\n",
        "        tokens = elem[\"tokens\"]\n",
        "        label = elem[\"label\"]\n",
        "        if label==0: good_tokens.update(tokens)\n",
        "        else: bad_tokens.update(tokens)\n",
        "\n",
        "    good_tokens_extract = good_tokens - bad_tokens\n",
        "    bad_tokens_extrack = bad_tokens - good_tokens\n",
        "\n",
        "    return good_tokens_extract,bad_tokens_extrack\n",
        "\n",
        "\n",
        "def test_advanced_baseline(test,good_tokens,bad_tokens,model):\n",
        "    predictions = []\n",
        "    labels = []\n",
        "    correct = 0\n",
        "    tp = 0\n",
        "    fp = 0\n",
        "    epsilon = 1e-8\n",
        "    for idx in tqdm(range(len(test))):\n",
        "        probabilities = [0.5,0.5]\n",
        "        elem = test.get_data(idx)\n",
        "        tokens = elem[\"tokens\"]\n",
        "        relevant_token = 0\n",
        "        token_most_similar = dict()\n",
        "        good = 0\n",
        "        bad = 0\n",
        "        for token in tokens:\n",
        "            if token in model.wv.key_to_index.keys():\n",
        "                relevant_token +=1\n",
        "                token_most_similar[token] = model.wv.most_similar(token)\n",
        "        if relevant_token!=0:\n",
        "            for token_key, list_tokens in token_most_similar.items():\n",
        "                for elem in list_tokens:\n",
        "                    token_check = elem[0]\n",
        "                    if token_check in good_tokens: good+=1\n",
        "                    if token_check in bad_tokens: bad+=1\n",
        "            if good > bad:\n",
        "                probabilities = [0.8,0.2]\n",
        "            elif good < bad:\n",
        "                probabilities = [0.2,0.8]\n",
        "            else:\n",
        "                probabilities = [0.5,0.5]\n",
        "\n",
        "        predictions.append(random.choices(values, weights=probabilities, k=1)[0])\n",
        "        labels.append(test.get_data(idx)[\"label\"])\n",
        "        if labels[idx] == predictions[idx]: correct+=1\n",
        "        if predictions[idx] == 1 and labels[idx] == 1: tp+=1\n",
        "        if predictions[idx] == 1 and labels[idx] == 0: fp+=1\n",
        "\n",
        "    return correct/len(predictions),tp/(tp+fp+epsilon)\n",
        "\n",
        "\n",
        "\n",
        "\n",
        "\n",
        "good_tokens,bad_tokens = get_corpus_and_tokens(dataset_train)\n",
        "\n",
        "accuracy_advanced_baseline,precision_advanced_baseline = test_advanced_baseline(dataset_test,good_tokens,bad_tokens,modelw2v)\n",
        "print()\n",
        "print(f\"accuracy of advanced baseline -> {accuracy_advanced_baseline}\")\n",
        "print(f\"precision of advanced baseline -> {precision_advanced_baseline}\")"
      ]
    },
    {
      "cell_type": "markdown",
      "metadata": {
        "id": "P5Sab5F54zQD"
      },
      "source": [
        "# Train\n"
      ]
    },
    {
      "cell_type": "code",
      "execution_count": null,
      "metadata": {
        "id": "SQoMdY5gcrQm"
      },
      "outputs": [],
      "source": [
        "sentiment_tagger = BiLSTMModel(\n",
        "    # vocabulary_length=len(vocabulary),\n",
        "    input_size = size_vector_input,\n",
        "    hidden_dim=32,\n",
        "    bilstm_layers=4,\n",
        "    bilstm_dropout=0.4,\n",
        "    num_classes=2,\n",
        "    padding_id=0,\n",
        "    bidirectional = True,\n",
        "    device=\"cuda\"\n",
        ")"
      ]
    },
    {
      "cell_type": "code",
      "execution_count": null,
      "metadata": {
        "id": "WIRVDdvRGxi5"
      },
      "outputs": [],
      "source": [
        "trainer = Trainer(\n",
        "    model=sentiment_tagger,\n",
        "    # optimizer=torch.optim.Adam(sentiment_tagger.parameters(), lr=1e-4),\n",
        "    optimizer=torch.optim.AdamW(sentiment_tagger.parameters(), lr=1e-4),\n",
        "    # optimizer=torch.optim.SGD(sentiment_tagger.parameters(), lr=0.0098, momentum=0.6 ),\n",
        "    log_steps=100\n",
        ")"
      ]
    },
    {
      "cell_type": "code",
      "execution_count": null,
      "metadata": {
        "colab": {
          "base_uri": "https://localhost:8080/"
        },
        "id": "BIRNiSt3FzDL",
        "outputId": "5ce8efd2-6bed-4dec-e42b-676f20a1f609"
      },
      "outputs": [
        {
          "output_type": "stream",
          "name": "stdout",
          "text": [
            "Training ...\n",
            " Epoch  1\n",
            "\t[E:  1] train loss = 0.6825\n",
            "  [E:  1] valid loss = 0.6754, valid acc = 0.6192\n",
            " Epoch  2\n",
            "\t[E:  2] train loss = 0.6698\n",
            "  [E:  2] valid loss = 0.6646, valid acc = 0.6192\n",
            " Epoch  3\n",
            "\t[E:  3] train loss = 0.6586\n",
            "  [E:  3] valid loss = 0.6549, valid acc = 0.6192\n",
            " Epoch  4\n",
            "\t[E:  4] train loss = 0.6447\n",
            "  [E:  4] valid loss = 0.6397, valid acc = 0.6192\n",
            " Epoch  5\n",
            "\t[E:  5] train loss = 0.6110\n",
            "  [E:  5] valid loss = 0.6014, valid acc = 0.6209\n",
            " Epoch  6\n",
            "\t[E:  6] train loss = 0.5541\n",
            "  [E:  6] valid loss = 0.5503, valid acc = 0.7231\n",
            " Epoch  7\n",
            "\t[E:  7] train loss = 0.5111\n",
            "  [E:  7] valid loss = 0.5238, valid acc = 0.7622\n",
            " Epoch  8\n",
            "\t[E:  8] train loss = 0.4796\n",
            "  [E:  8] valid loss = 0.5121, valid acc = 0.7679\n",
            " Epoch  9\n",
            "\t[E:  9] train loss = 0.4551\n",
            "  [E:  9] valid loss = 0.4892, valid acc = 0.7703\n",
            " Epoch 10\n",
            "\t[E: 10] train loss = 0.4332\n",
            "  [E: 10] valid loss = 0.4752, valid acc = 0.7789\n",
            " Epoch 11\n",
            "\t[E: 11] train loss = 0.4174\n",
            "  [E: 11] valid loss = 0.4676, valid acc = 0.7902\n",
            " Epoch 12\n",
            "\t[E: 12] train loss = 0.4057\n",
            "  [E: 12] valid loss = 0.4576, valid acc = 0.7946\n",
            " Epoch 13\n",
            "\t[E: 13] train loss = 0.3927\n",
            "  [E: 13] valid loss = 0.4574, valid acc = 0.7992\n",
            " Epoch 14\n",
            "\t[E: 14] train loss = 0.3853\n",
            "  [E: 14] valid loss = 0.4475, valid acc = 0.7983\n",
            " Epoch 15\n",
            "\t[E: 15] train loss = 0.3754\n",
            "  [E: 15] valid loss = 0.4484, valid acc = 0.8038\n",
            " Epoch 16\n",
            "\t[E: 16] train loss = 0.3674\n",
            "  [E: 16] valid loss = 0.4420, valid acc = 0.8035\n",
            " Epoch 17\n",
            "\t[E: 17] train loss = 0.3609\n",
            "  [E: 17] valid loss = 0.4457, valid acc = 0.8053\n",
            " Epoch 18\n",
            "\t[E: 18] train loss = 0.3527\n",
            "  [E: 18] valid loss = 0.4406, valid acc = 0.8087\n",
            " Epoch 19\n",
            "\t[E: 19] train loss = 0.3456\n",
            "  [E: 19] valid loss = 0.4384, valid acc = 0.8108\n",
            " Epoch 20\n",
            "\t[E: 20] train loss = 0.3372\n",
            "  [E: 20] valid loss = 0.4405, valid acc = 0.8151\n",
            "... Done!\n"
          ]
        }
      ],
      "source": [
        "losses = trainer.train(training_dataloader,validation_dataloader, epochs=20)"
      ]
    },
    {
      "cell_type": "code",
      "execution_count": null,
      "metadata": {
        "colab": {
          "base_uri": "https://localhost:8080/",
          "height": 452
        },
        "id": "mVDWQ8ElE-gc",
        "outputId": "53247b47-2bcb-4d1a-e0d5-e5a613e973ae"
      },
      "outputs": [
        {
          "output_type": "display_data",
          "data": {
            "text/plain": [
              "<Figure size 640x480 with 1 Axes>"
            ],
            "image/png": "[encoded data removed]"
          },
          "metadata": {}
        }
      ],
      "source": [
        "import matplotlib.pyplot as plt\n",
        "\n",
        "plt.title(\"losses\")\n",
        "plt.plot(losses[\"train_losses\"], label=\"train\")\n",
        "plt.plot(losses[\"valid_losses\"], label=\"valid\")\n",
        "plt.legend()\n",
        "plt.show()"
      ]
    },
    {
      "cell_type": "code",
      "execution_count": null,
      "metadata": {
        "colab": {
          "base_uri": "https://localhost:8080/",
          "height": 452
        },
        "id": "Z7AAU2y5FBIV",
        "outputId": "04e5c2ec-d153-48aa-c135-612175821464"
      },
      "outputs": [
        {
          "output_type": "display_data",
          "data": {
            "text/plain": [
              "<Figure size 640x480 with 1 Axes>"
            ],
            "image/png": "[encoded data removed]"
          },
          "metadata": {}
        }
      ],
      "source": [
        "plt.title(\"accuracy\")\n",
        "plt.plot(losses[\"valid_acc\"], label=\"valid accuracy\")\n",
        "plt.legend()\n",
        "plt.show()"
      ]
    },
    {
      "cell_type": "code",
      "source": [
        "plt.title(\"precision\")\n",
        "plt.plot(losses[\"valid_prec\"], label=\"valid precision\")\n",
        "plt.legend()\n",
        "plt.show()"
      ],
      "metadata": {
        "colab": {
          "base_uri": "https://localhost:8080/",
          "height": 452
        },
        "id": "UZyvWhtWdPP_",
        "outputId": "a6aad169-98b9-4ec7-ca52-197dde8e18bf"
      },
      "execution_count": null,
      "outputs": [
        {
          "output_type": "display_data",
          "data": {
            "text/plain": [
              "<Figure size 640x480 with 1 Axes>"
            ],
            "image/png": "[encoded data removed]"
          },
          "metadata": {}
        }
      ]
    },
    {
      "cell_type": "code",
      "source": [
        "trainer.model = torch.load('best_model.pth')"
      ],
      "metadata": {
        "id": "6J3s9atQEGwi"
      },
      "execution_count": null,
      "outputs": []
    },
    {
      "cell_type": "code",
      "execution_count": null,
      "metadata": {
        "id": "uDKfi2mNFCIl"
      },
      "outputs": [],
      "source": [
        "test_loss, test_acc, test_prec = trainer.evaluate(test_dataloader)"
      ]
    },
    {
      "cell_type": "code",
      "execution_count": null,
      "metadata": {
        "colab": {
          "base_uri": "https://localhost:8080/"
        },
        "id": "x_0I5fFDFDOK",
        "outputId": "d1d70b43-7ed4-41ff-e94f-3bb4396b2457"
      },
      "outputs": [
        {
          "output_type": "stream",
          "name": "stdout",
          "text": [
            "Test loss 0.5563119760581425, Test accuracy: 0.7409226196152824\n"
          ]
        }
      ],
      "source": [
        "print(f\"Test loss {test_loss}, Test accuracy: {test_acc}\")"
      ]
    },
    {
      "cell_type": "code",
      "source": [
        "print(f\"Test precision {test_prec}\")"
      ],
      "metadata": {
        "id": "WUDZT5mU-lHz",
        "colab": {
          "base_uri": "https://localhost:8080/"
        },
        "outputId": "6e369b1e-ac78-4666-a301-86312abb0036"
      },
      "execution_count": null,
      "outputs": [
        {
          "output_type": "stream",
          "name": "stdout",
          "text": [
            "Test precision 0.41688315634216583\n"
          ]
        }
      ]
    },
    {
      "cell_type": "markdown",
      "source": [
        "#OLD CODE"
      ],
      "metadata": {
        "id": "G9Bym9lzyZTL"
      }
    },
    {
      "cell_type": "code",
      "source": [
        "\n",
        "# class Haspeede3_OLD(Dataset):\n",
        "#     def __init__(self,input_file: Path,max_length: int = 1028,augmentation:bool = False,device: str = \"cuda\"):\n",
        "#         self.data = []\n",
        "#         #TOKENIZER CHOICE\n",
        "#         nlp = spacy.load(\"it_core_news_sm\") #TODO forse questo mi rallenta, pensaci!\n",
        "#         italian_stopwords = spacy.lang.it.stop_words.STOP_WORDS\n",
        "#         with open(input_file, 'r', encoding='utf-8') as f:\n",
        "#             for i, line in enumerate(tqdm(f)):\n",
        "#                 sample = dict()\n",
        "#                 if augmentation:\n",
        "#                     sample1 = dict()\n",
        "#                     sample2 = dict()\n",
        "#                 element = json.loads(line)\n",
        "#                 text = element['text']\n",
        "#                 # text = clean_text(text)\n",
        "#                 idx = int(element['id'].split('_')[-1])\n",
        "#                 choices = element['choices']\n",
        "#                 index_label = int(element['label'])\n",
        "#                 label = choices[index_label]\n",
        "#                 label = 0 if (label=='neutrale') else 1\n",
        "#                 sample[\"text\"] = text\n",
        "#                 sample[\"idx\"] = idx\n",
        "#                 #TODO come velocizzare?\n",
        "#                 #s1: non chiamare la funzione fallo direttamente qua!\n",
        "#                 tokens = [token.text for token in nlp(text) if token.text.lower() not in italian_stopwords]\n",
        "#                 if augmentation:\n",
        "#                     tokens1 = tokens\n",
        "#                     tokens2 = tokens\n",
        "#                     sample[\"label\"] = label\n",
        "#                     sample[\"tokens\"] = tokens\n",
        "#                     random.shuffle(tokens1)\n",
        "#                     sample1[\"tokens\"] = tokens1\n",
        "#                     sample1[\"label\"] = label\n",
        "#                     random.shuffle(tokens2)\n",
        "#                     sample2[\"tokens\"] = tokens2\n",
        "#                     sample2[\"label\"] = label\n",
        "#                     self.data.append(sample)\n",
        "#                     self.data.append(sample1)\n",
        "#                     self.data.append(sample2)\n",
        "#                 else:\n",
        "#                     sample[\"tokens\"] = [token.text for token in nlp(text) if token.text.lower() not in italian_stopwords ]\n",
        "#                     sample[\"label\"] = label\n",
        "#                     self.data.append(sample)\n",
        "\n",
        "\n",
        "\n",
        "\n",
        "\n",
        "#         # Keep track of padding id\n",
        "#         self.padding_id: int | None = None\n",
        "#         # Initialize indexed data attribute but leave it None\n",
        "#         # Must be filled through the `.index(vocabulary, label_vocabulary)` method\n",
        "#         # each dictionary represents a sentence with two keys: \"input_ids\" and \"label\"\n",
        "#         self.indexed_data: list[dict] | None = None\n",
        "\n",
        "#         # Keep track of the maximum length to allow for a batch\n",
        "#         self.max_length = max_length\n",
        "\n",
        "#         # Save device\n",
        "#         self.device = torch.device(device)\n",
        "\n",
        "\n",
        "\n",
        "\n",
        "#     def __len__(self) -> int:\n",
        "#         return len(self.data)\n",
        "\n",
        "#     def __getitem__(self, idx: int) -> dict:\n",
        "#         if self.indexed_data is None:\n",
        "#             raise RuntimeError(\n",
        "#                 \"Trying to retrieve samples but dataset has not been indexed yet!\"\n",
        "#                 + \" Be sure to call `.index()` on this object.\"\n",
        "#                 + \" If you want to retrieve raw elements, call `.get_raw_elements(idx)\"\n",
        "#             )\n",
        "#         return self.indexed_data[idx]\n",
        "\n",
        "#     def get_data(self,idx:int) -> dict:\n",
        "#         if idx < len(self.data):\n",
        "#             return self.data[idx]\n",
        "\n",
        "#     def get_vocabulary(self,pad_token:str = \"<pad>\", unk_token:str = \"<unk>\", extra_tokens:list[str] = []):\n",
        "#         vocab_counter = dict(Counter(token for sample in self.data for token in sample[\"tokens\"]).most_common())\n",
        "#         vocabulary = vocab(vocab_counter, min_freq = 1, specials = [pad_token, unk_token, *extra_tokens])\n",
        "#         vocabulary.set_default_index(vocabulary([unk_token])[0])\n",
        "#         return vocabulary\n",
        "\n",
        "#     def set_padding_id(self,value:int) -> None:\n",
        "#         self.padding_id = value\n",
        "\n",
        "#     def index(self, vocabulary:Vocab) -> None:\n",
        "#         if self.indexed_data is not None:\n",
        "#             print(\"Dataset has already been indexed. Keeping old index...\")\n",
        "#         else:\n",
        "#             indexed_data = []\n",
        "#             for sample in self.data:\n",
        "#                 indexed_data.append({\"input_ids\": vocabulary(sample[\"tokens\"]), \"label\": sample[\"label\"]})\n",
        "#             self.indexed_data = indexed_data\n",
        "\n",
        "#     def get_raw_padding_id(self):\n",
        "#         return self.padding_id\n",
        "\n",
        "#     def _collate_fn(self, raw_batch: list[dict]) -> tuple[torch.Tensor,torch.Tensor,torch.Tensor]:\n",
        "#         if self.padding_id is None:\n",
        "#             raise RuntimeError(\"Error: padding not set! Use set_padding_id method!\")\n",
        "#         sequence_lenghts = torch.tensor([len(sample[\"input_ids\"]) for sample in raw_batch], dtype = torch.long)\n",
        "#         padded_sequence = pad_sequence(\n",
        "#             (\n",
        "#                 torch.tensor(sample[\"input_ids\"],dtype = torch.long, device = self.device)\n",
        "#                 for sample in raw_batch\n",
        "#             ),\n",
        "#             batch_first = True,\n",
        "#             padding_value = self.padding_id\n",
        "#         )\n",
        "#         labels = torch.tensor([sample[\"label\"] for sample in raw_batch], device = self.device, dtype=torch.long)\n",
        "#         return sequence_lenghts,padded_sequence,labels\n",
        "\n",
        "\n",
        "#     def _collate_fn(self, raw_batch: list[dict]) -> tuple[torch.Tensor,torch.Tensor,torch.Tensor]:\n",
        "#         if self.padding_id is None:\n",
        "#             raise RuntimeError(\"Error: padding not set! Use set_padding_id method!\")\n",
        "\n",
        "\n",
        "#         sequence_lenghts = torch.tensor([len(sample[\"input_ids\"]) for sample in raw_batch], dtype = torch.long)\n",
        "\n",
        "#         #batch,sentence,word (dimensions)\n",
        "#         for sentence in raw_batch:\n",
        "#             for idx,word in enumerate(sentence[\"input_ids\"]):\n",
        "#                 word = self.model.wv.index_to_key[index]\n",
        "#                 embedding = self.model.wv[word]\n",
        "#                 sentence[\"input_ids\"][idx] = embedding\n",
        "\n",
        "\n",
        "\n",
        "\n",
        "#         padded_sequence = pad_sequence(\n",
        "#             (\n",
        "#                 torch.tensor(sample[\"input_ids\"],dtype = torch.long, device = self.device)\n",
        "#                 for sample in raw_batch\n",
        "#             ),\n",
        "#             batch_first = True,\n",
        "#             padding_value = self.padding_id\n",
        "#         )\n",
        "#         labels = torch.tensor([sample[\"label\"] for sample in raw_batch], device = self.device, dtype=torch.long)\n",
        "#         return sequence_lenghts,padded_sequence,labels\n",
        "\n",
        "\n",
        "\n",
        "\n",
        "\n",
        "\n",
        "\n",
        "\n"
      ],
      "metadata": {
        "id": "cYFz3pt8z5nm"
      },
      "execution_count": null,
      "outputs": []
    },
    {
      "cell_type": "code",
      "source": [
        "\n",
        "# data = []\n",
        "# with open(\"haspeede3-task1-train-data.jsonl\", 'r', encoding='utf-8') as f:\n",
        "#     for line in f:\n",
        "#         sample = json.loads(line)\n",
        "#         data.append(sample)\n",
        "# # Now the 'data' list contains the data from the .jsonl file\n",
        "\n",
        "# random.shuffle(data)\n",
        "# split_index = int(0.90 * len(data))\n",
        "# train_part = data[:split_index]\n",
        "# validation_part = data[split_index:]\n",
        "\n",
        "\n",
        "# test_part = []\n",
        "# with open(\"haspeede3-task1-test-data.jsonl\", 'r', encoding='utf-8') as f:\n",
        "#     for line in f:\n",
        "#         sample = json.loads(line)\n",
        "#         test_part.append(sample)\n",
        "\n",
        "# with open('haspeede3-task1-train-PART.jsonl', 'w', encoding='utf-8') as out_file:\n",
        "#     for index, item in enumerate(train_part):\n",
        "#         out_file.write(json.dumps(item,ensure_ascii=False))\n",
        "#         if index < len(train_part) - 1 :\n",
        "#             out_file.write(\"\\n\")  # Write each JSON object on a new line\n",
        "\n",
        "\n",
        "# with open('haspeede3-task1-validation-PART.jsonl', 'w', encoding='utf-8') as out_file:\n",
        "#     for index, item in enumerate(validation_part):\n",
        "#         out_file.write(json.dumps(item,ensure_ascii=False))\n",
        "#         if index < len(validation_part) - 1:\n",
        "#              out_file.write(\"\\n\")  # Write each JSON object on a new line"
      ],
      "metadata": {
        "id": "ePj6mfAbz_dw"
      },
      "execution_count": null,
      "outputs": []
    },
    {
      "cell_type": "code",
      "source": [
        "# print(train_dataset.get_vocabulary())\n",
        "    #{'@unknown': 363, 'Con': 43, 'tutte': 70, 'le': 872, 'denunce': 1, 'che': 3035, 'si': 952, 'sta': 169, 'beccando': 1, ...}\n",
        "#once most_common was added:\n",
        "# print(train_dataset.get_vocabulary())\n",
        "    # {'#': 20161, ',': 4944, '.': 4733, 'di': 3892, 'e': 3192, 'che': 3035, 'il': 2761, 'la': 2286 ... }\n",
        "#SOME USEFUL FUNCTIONS TO CHECK VOCAB\n",
        "# print(vocabulary.get_itos()[:10])\n",
        "# print(vocabulary.get_stoi()[''])"
      ],
      "metadata": {
        "id": "oYuA5KCqC1us"
      },
      "execution_count": null,
      "outputs": []
    }
  ],
  "metadata": {
    "colab": {
      "provenance": [],
      "collapsed_sections": [
        "6HwK0PHy_HSB",
        "0tdsrOWY-H_M",
        "irhaRy9SY6Pm",
        "OKYc-Vwx0i3f",
        "c_AdvtfX0sRE",
        "G9Bym9lzyZTL"
      ],
      "gpuType": "T4"
    },
    "kernelspec": {
      "display_name": "Python 3",
      "name": "python3"
    },
    "language_info": {
      "name": "python"
    },
    "accelerator": "GPU"
  },
  "nbformat": 4,
  "nbformat_minor": 0
}